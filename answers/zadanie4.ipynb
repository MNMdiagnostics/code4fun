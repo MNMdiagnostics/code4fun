{
 "cells": [
  {
   "cell_type": "markdown",
   "metadata": {},
   "source": [
    "### Imports"
   ]
  },
  {
   "cell_type": "code",
   "execution_count": 1,
   "metadata": {},
   "outputs": [],
   "source": [
    "import os\n",
    "import pandas as pd\n",
    "import matplotlib.pyplot as plt\n",
    "import matplotlib.style as style\n",
    "\n",
    "style.use('ggplot')"
   ]
  },
  {
   "cell_type": "markdown",
   "metadata": {},
   "source": [
    "### Data loading"
   ]
  },
  {
   "cell_type": "code",
   "execution_count": 2,
   "metadata": {},
   "outputs": [],
   "source": [
    "DATA_FILE = 'CPCT02220079.annotated.processed.tsv'\n",
    "OUTPUT_FOLDER = 'zadanie4_pngs'"
   ]
  },
  {
   "cell_type": "code",
   "execution_count": 3,
   "metadata": {},
   "outputs": [],
   "source": [
    "if not os.path.isdir(OUTPUT_FOLDER):\n",
    "    os.mkdir(OUTPUT_FOLDER)"
   ]
  },
  {
   "cell_type": "code",
   "execution_count": 4,
   "metadata": {},
   "outputs": [],
   "source": [
    "def load_data(file):\n",
    "    return pd.read_csv(file, sep='\\t', usecols=['CHROM', 'POS', 'REF', 'ALT'], dtype={'CHROM': str})"
   ]
  },
  {
   "cell_type": "code",
   "execution_count": 5,
   "metadata": {},
   "outputs": [],
   "source": [
    "df = load_data(DATA_FILE)"
   ]
  },
  {
   "cell_type": "markdown",
   "metadata": {},
   "source": [
    "### Variant classification"
   ]
  },
  {
   "cell_type": "code",
   "execution_count": 6,
   "metadata": {},
   "outputs": [],
   "source": [
    "def classify_variant(s):\n",
    "    ref_len = len(s['REF'])\n",
    "    alt_len = len(s['ALT'])\n",
    "\n",
    "    if ref_len < alt_len:\n",
    "        return 'INS'\n",
    "    elif ref_len > alt_len:\n",
    "        return 'DEL'\n",
    "    elif ref_len == alt_len == 1:\n",
    "        return 'SNP'\n",
    "    else:\n",
    "        return None"
   ]
  },
  {
   "cell_type": "code",
   "execution_count": 7,
   "metadata": {},
   "outputs": [],
   "source": [
    "df['VARIANT_CLASS'] = df.apply(classify_variant, axis=1)"
   ]
  },
  {
   "cell_type": "code",
   "execution_count": 8,
   "metadata": {},
   "outputs": [],
   "source": [
    "indels = df[df['VARIANT_CLASS'].isin(['INS', 'DEL'])].copy()"
   ]
  },
  {
   "cell_type": "code",
   "execution_count": 9,
   "metadata": {},
   "outputs": [],
   "source": [
    "indels['indel_len'] = (indels['ALT'].apply(len) - indels['REF'].apply(len)).apply(abs)"
   ]
  },
  {
   "cell_type": "code",
   "execution_count": 10,
   "metadata": {},
   "outputs": [
    {
     "name": "stdout",
     "output_type": "stream",
     "text": [
      "<class 'pandas.core.frame.DataFrame'>\n",
      "Int64Index: 915373 entries, 0 to 5062751\n",
      "Data columns (total 6 columns):\n",
      "CHROM            915373 non-null object\n",
      "POS              915373 non-null int64\n",
      "REF              915373 non-null object\n",
      "ALT              915373 non-null object\n",
      "VARIANT_CLASS    915373 non-null object\n",
      "indel_len        915373 non-null int64\n",
      "dtypes: int64(2), object(4)\n",
      "memory usage: 48.9+ MB\n"
     ]
    }
   ],
   "source": [
    "indels.info()"
   ]
  },
  {
   "cell_type": "code",
   "execution_count": 11,
   "metadata": {},
   "outputs": [
    {
     "data": {
      "text/plain": [
       "array(['1', '2', '3', '4', '5', '6', '7', '8', '9', '10', '11', '12',\n",
       "       '13', '14', '15', '16', '17', '18', '19', '20', '21', '22', 'X',\n",
       "       'Y', 'MT'], dtype=object)"
      ]
     },
     "execution_count": 11,
     "metadata": {},
     "output_type": "execute_result"
    }
   ],
   "source": [
    "indels.CHROM.unique()"
   ]
  },
  {
   "cell_type": "markdown",
   "metadata": {},
   "source": [
    "### Plot for every chromosome"
   ]
  },
  {
   "cell_type": "code",
   "execution_count": 14,
   "metadata": {},
   "outputs": [],
   "source": [
    "for name, group in indels[['CHROM', 'indel_len']].groupby('CHROM'):\n",
    "    plt.hist(group['indel_len'], bins=(range(1, max(group['indel_len'].max(), 50))))\n",
    "    plt.yscale('log')\n",
    "    plt.title(f'Chromosome {name}')\n",
    "    plt.xlabel('Sequence length')\n",
    "    plt.ylabel('Frequency')\n",
    "    plt.savefig(os.path.join(OUTPUT_FOLDER, f'{name}.png'))\n",
    "    plt.close()"
   ]
  }
 ],
 "metadata": {
  "kernelspec": {
   "display_name": "Python 3",
   "language": "python",
   "name": "python3"
  },
  "language_info": {
   "codemirror_mode": {
    "name": "ipython",
    "version": 3
   },
   "file_extension": ".py",
   "mimetype": "text/x-python",
   "name": "python",
   "nbconvert_exporter": "python",
   "pygments_lexer": "ipython3",
   "version": "3.7.3"
  }
 },
 "nbformat": 4,
 "nbformat_minor": 4
}
